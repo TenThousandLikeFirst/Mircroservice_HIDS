{
 "cells": [
  {
   "cell_type": "code",
   "execution_count": 20,
   "metadata": {},
   "outputs": [],
   "source": [
    "import os\n",
    "import re\n",
    "\n",
    "def extract_syscalls_and_timestamps(file_path, output_file):\n",
    "    if not os.path.exists(file_path):\n",
    "        print(f\"Error: The file '{file_path}' does not exist.\")\n",
    "        return\n",
    "    \n",
    "    with open(file_path, 'r') as file:\n",
    "        lines = file.readlines()\n",
    "\n",
    "    # 정규 표현식으로 타임스탬프와 시스템 콜 추출\n",
    "    pattern = re.compile(r'(\\d+)\\s+\\S+\\s+\\d+\\s+[<>]\\s+\\w+\\s+(\\w+)')\n",
    "\n",
    "    extracted_data = []\n",
    "    \n",
    "    for line in lines:\n",
    "        match = pattern.search(line)\n",
    "        if match:\n",
    "            timestamp = match.group(1)\n",
    "            syscall = match.group(2)\n",
    "            extracted_data.append(f'{timestamp}\\t{syscall}')\n",
    "\n",
    "\n",
    "    # 추출한 데이터를 새로운 파일에 저장\n",
    "    with open(output_file, 'w') as outfile:\n",
    "        for item in extracted_data:\n",
    "            outfile.write(f\"{item}\\n\")"
   ]
  },
  {
   "cell_type": "code",
   "execution_count": 21,
   "metadata": {},
   "outputs": [],
   "source": [
    "# 사용 예시\n",
    "input_file = '/home/joon/SEMI/Research/Syscall_test.txt'\n",
    "output_file = 'extracted_syscalls.txt'\n",
    "extract_syscalls_and_timestamps(input_file, output_file)"
   ]
  },
  {
   "cell_type": "code",
   "execution_count": null,
   "metadata": {},
   "outputs": [],
   "source": []
  }
 ],
 "metadata": {
  "kernelspec": {
   "display_name": "Hids",
   "language": "python",
   "name": "python3"
  },
  "language_info": {
   "codemirror_mode": {
    "name": "ipython",
    "version": 3
   },
   "file_extension": ".py",
   "mimetype": "text/x-python",
   "name": "python",
   "nbconvert_exporter": "python",
   "pygments_lexer": "ipython3",
   "version": "3.12.3"
  }
 },
 "nbformat": 4,
 "nbformat_minor": 2
}
